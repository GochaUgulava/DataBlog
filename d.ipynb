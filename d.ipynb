{
 "cells": [
  {
   "cell_type": "markdown",
   "metadata": {},
   "source": [
    "# DataBlog - ბლოგი მონაცემთა ანალიზის შესახებ"
   ]
  },
  {
   "cell_type": "markdown",
   "metadata": {},
   "source": [
    "## DataBlog - blog about Data Analysis (on Georgian)"
   ]
  },
  {
   "cell_type": "markdown",
   "metadata": {},
   "source": [
    "\n",
    "<br>\n",
    "<p style='text-align: center;'>სარჩევი</p><br>\n",
    "\n",
    "<a href='d0.ipynb'>ბლოგის შესახებ</a><br><br>\n",
    "<a href='d1.ipynb'>1. რა არის მონაცემები? გენერალური ერთობლიობა და შერჩევა</a><br><br>\n",
    "<a href='d2.ipynb'>2. მონაცემთა ტიპები</a><br><br>\n",
    "\n",
    "\n",
    "<br><br>\n",
    "მასალა ბლოგზე გამოქვეყნდება თანდათანობით"
   ]
  },
  {
   "cell_type": "markdown",
   "metadata": {},
   "source": [
    "<a href='https://gochaugulava.github.io/'>საიტზე გადასვლა</a>"
   ]
  }
 ],
 "metadata": {
  "kernelspec": {
   "display_name": "Python 3",
   "language": "python",
   "name": "python3"
  },
  "language_info": {
   "codemirror_mode": {
    "name": "ipython",
    "version": 3
   },
   "file_extension": ".py",
   "mimetype": "text/x-python",
   "name": "python",
   "nbconvert_exporter": "python",
   "pygments_lexer": "ipython3",
   "version": "3.8.5"
  }
 },
 "nbformat": 4,
 "nbformat_minor": 4
}
